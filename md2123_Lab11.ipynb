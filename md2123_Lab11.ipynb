{
  "cells": [
    {
      "cell_type": "markdown",
      "metadata": {
        "id": "JfF3mlQi17_K"
      },
      "source": [
        "# Lab Exercise: SQL Analysis with Polars\n",
        "\n",
        "In this lab, you'll practice SQL queries using Polars' built-in SQL functionality. Complete each exercise by writing the appropriate SQL query."
      ]
    },
    {
      "cell_type": "code",
      "source": [
        "# Setup - Run this cell first\n",
        "import polars as pl\n",
        "\n",
        "# Load data\n",
        "airlines = pl.read_csv('https://raw.githubusercontent.com/philhetzel/opan5510-class11/main/data/nyc_airlines.csv')\n",
        "airports = pl.read_csv('https://raw.githubusercontent.com/philhetzel/opan5510-class11/main/data/nyc_airports.csv')\n",
        "flights = pl.read_csv('https://raw.githubusercontent.com/philhetzel/opan5510-class11/main/data/nyc_flights.csv', null_values=\"NA\")\n",
        "planes = pl.read_csv('https://raw.githubusercontent.com/philhetzel/opan5510-class11/main/data/nyc_planes.csv', null_values=\"NA\")\n",
        "weather = pl.read_csv('https://raw.githubusercontent.com/philhetzel/opan5510-class11/main/data/nyc_weather.csv', null_values=\"NA\", schema_overrides={\"precip\": pl.Float64, \"visib\": pl.Float64})\n",
        "\n",
        "\n",
        "# Create SQL context\n",
        "ctx = pl.SQLContext(\n",
        "    airlines=airlines,\n",
        "    airports=airports,\n",
        "    flights=flights,\n",
        "    planes=planes,\n",
        "    weather=weather,\n",
        "    eager_execution=True\n",
        ")\n",
        "\n",
        "print(\"Setup complete! Tables available:\")\n",
        "print(ctx.execute(\"SHOW TABLES\"))"
      ],
      "metadata": {
        "colab": {
          "base_uri": "https://localhost:8080/"
        },
        "id": "zj_TV7lA6cVc",
        "outputId": "a512a7db-7b93-445d-b527-53f5b9cabc62"
      },
      "execution_count": 142,
      "outputs": [
        {
          "output_type": "stream",
          "name": "stdout",
          "text": [
            "Setup complete! Tables available:\n",
            "shape: (5, 1)\n",
            "┌──────────┐\n",
            "│ name     │\n",
            "│ ---      │\n",
            "│ str      │\n",
            "╞══════════╡\n",
            "│ airlines │\n",
            "│ airports │\n",
            "│ flights  │\n",
            "│ planes   │\n",
            "│ weather  │\n",
            "└──────────┘\n"
          ]
        },
        {
          "output_type": "stream",
          "name": "stderr",
          "text": [
            "/tmp/ipython-input-1850436644.py:13: DeprecationWarning: The argument `eager_execution` for `SQLContext.__init__` is deprecated. It has been renamed to `eager`.\n",
            "  ctx = pl.SQLContext(\n"
          ]
        }
      ]
    },
    {
      "cell_type": "markdown",
      "metadata": {
        "id": "TX5OaQuJ17_L"
      },
      "source": [
        "## Exercise 1: Basic Queries\n",
        "\n",
        "### 1.1 Find all unique carriers in the airlines table"
      ]
    },
    {
      "cell_type": "code",
      "execution_count": 143,
      "metadata": {
        "id": "giTrS5jQ17_L",
        "colab": {
          "base_uri": "https://localhost:8080/"
        },
        "outputId": "fa492dba-3032-4c2f-8659-b91f14122ebd"
      },
      "outputs": [
        {
          "output_type": "stream",
          "name": "stdout",
          "text": [
            "shape: (16, 1)\n",
            "┌─────────┐\n",
            "│ carrier │\n",
            "│ ---     │\n",
            "│ str     │\n",
            "╞═════════╡\n",
            "│ 9E      │\n",
            "│ AA      │\n",
            "│ AS      │\n",
            "│ B6      │\n",
            "│ DL      │\n",
            "│ …       │\n",
            "│ UA      │\n",
            "│ US      │\n",
            "│ VX      │\n",
            "│ WN      │\n",
            "│ YV      │\n",
            "└─────────┘\n"
          ]
        }
      ],
      "source": [
        "# Write your SQL query here\n",
        "result = ctx.execute(\"\"\"\n",
        "SELECT DISTINCT carrier\n",
        "FROM airlines\n",
        "\"\"\")\n",
        "\n",
        "print(result)"
      ]
    },
    {
      "cell_type": "markdown",
      "metadata": {
        "id": "Mlv9wmQX17_L"
      },
      "source": [
        "### 1.2 Find the top 10 destinations by number of flights"
      ]
    },
    {
      "cell_type": "code",
      "source": [
        "result = ctx.execute(\"\"\"\n",
        "SELECT*\n",
        "FROM flights\n",
        "\"\"\")\n",
        "\n",
        "result"
      ],
      "metadata": {
        "colab": {
          "base_uri": "https://localhost:8080/",
          "height": 617
        },
        "id": "-1YuWBGq7cyk",
        "outputId": "da2bf34a-9888-409d-ae6b-c1bf4b5134d6"
      },
      "execution_count": 144,
      "outputs": [
        {
          "output_type": "execute_result",
          "data": {
            "text/plain": [
              "shape: (336_776, 19)\n",
              "┌──────┬───────┬─────┬──────────┬───┬──────────┬──────┬────────┬──────────────────────┐\n",
              "│ year ┆ month ┆ day ┆ dep_time ┆ … ┆ distance ┆ hour ┆ minute ┆ time_hour            │\n",
              "│ ---  ┆ ---   ┆ --- ┆ ---      ┆   ┆ ---      ┆ ---  ┆ ---    ┆ ---                  │\n",
              "│ i64  ┆ i64   ┆ i64 ┆ i64      ┆   ┆ i64      ┆ i64  ┆ i64    ┆ str                  │\n",
              "╞══════╪═══════╪═════╪══════════╪═══╪══════════╪══════╪════════╪══════════════════════╡\n",
              "│ 2013 ┆ 1     ┆ 1   ┆ 517      ┆ … ┆ 1400     ┆ 5    ┆ 15     ┆ 2013-01-01T10:00:00Z │\n",
              "│ 2013 ┆ 1     ┆ 1   ┆ 533      ┆ … ┆ 1416     ┆ 5    ┆ 29     ┆ 2013-01-01T10:00:00Z │\n",
              "│ 2013 ┆ 1     ┆ 1   ┆ 542      ┆ … ┆ 1089     ┆ 5    ┆ 40     ┆ 2013-01-01T10:00:00Z │\n",
              "│ 2013 ┆ 1     ┆ 1   ┆ 544      ┆ … ┆ 1576     ┆ 5    ┆ 45     ┆ 2013-01-01T10:00:00Z │\n",
              "│ 2013 ┆ 1     ┆ 1   ┆ 554      ┆ … ┆ 762      ┆ 6    ┆ 0      ┆ 2013-01-01T11:00:00Z │\n",
              "│ …    ┆ …     ┆ …   ┆ …        ┆ … ┆ …        ┆ …    ┆ …      ┆ …                    │\n",
              "│ 2013 ┆ 9     ┆ 30  ┆ null     ┆ … ┆ 213      ┆ 14   ┆ 55     ┆ 2013-09-30T18:00:00Z │\n",
              "│ 2013 ┆ 9     ┆ 30  ┆ null     ┆ … ┆ 198      ┆ 22   ┆ 0      ┆ 2013-10-01T02:00:00Z │\n",
              "│ 2013 ┆ 9     ┆ 30  ┆ null     ┆ … ┆ 764      ┆ 12   ┆ 10     ┆ 2013-09-30T16:00:00Z │\n",
              "│ 2013 ┆ 9     ┆ 30  ┆ null     ┆ … ┆ 419      ┆ 11   ┆ 59     ┆ 2013-09-30T15:00:00Z │\n",
              "│ 2013 ┆ 9     ┆ 30  ┆ null     ┆ … ┆ 431      ┆ 8    ┆ 40     ┆ 2013-09-30T12:00:00Z │\n",
              "└──────┴───────┴─────┴──────────┴───┴──────────┴──────┴────────┴──────────────────────┘"
            ],
            "text/html": [
              "<div><style>\n",
              ".dataframe > thead > tr,\n",
              ".dataframe > tbody > tr {\n",
              "  text-align: right;\n",
              "  white-space: pre-wrap;\n",
              "}\n",
              "</style>\n",
              "<small>shape: (336_776, 19)</small><table border=\"1\" class=\"dataframe\"><thead><tr><th>year</th><th>month</th><th>day</th><th>dep_time</th><th>sched_dep_time</th><th>dep_delay</th><th>arr_time</th><th>sched_arr_time</th><th>arr_delay</th><th>carrier</th><th>flight</th><th>tailnum</th><th>origin</th><th>dest</th><th>air_time</th><th>distance</th><th>hour</th><th>minute</th><th>time_hour</th></tr><tr><td>i64</td><td>i64</td><td>i64</td><td>i64</td><td>i64</td><td>i64</td><td>i64</td><td>i64</td><td>i64</td><td>str</td><td>i64</td><td>str</td><td>str</td><td>str</td><td>i64</td><td>i64</td><td>i64</td><td>i64</td><td>str</td></tr></thead><tbody><tr><td>2013</td><td>1</td><td>1</td><td>517</td><td>515</td><td>2</td><td>830</td><td>819</td><td>11</td><td>&quot;UA&quot;</td><td>1545</td><td>&quot;N14228&quot;</td><td>&quot;EWR&quot;</td><td>&quot;IAH&quot;</td><td>227</td><td>1400</td><td>5</td><td>15</td><td>&quot;2013-01-01T10:00:00Z&quot;</td></tr><tr><td>2013</td><td>1</td><td>1</td><td>533</td><td>529</td><td>4</td><td>850</td><td>830</td><td>20</td><td>&quot;UA&quot;</td><td>1714</td><td>&quot;N24211&quot;</td><td>&quot;LGA&quot;</td><td>&quot;IAH&quot;</td><td>227</td><td>1416</td><td>5</td><td>29</td><td>&quot;2013-01-01T10:00:00Z&quot;</td></tr><tr><td>2013</td><td>1</td><td>1</td><td>542</td><td>540</td><td>2</td><td>923</td><td>850</td><td>33</td><td>&quot;AA&quot;</td><td>1141</td><td>&quot;N619AA&quot;</td><td>&quot;JFK&quot;</td><td>&quot;MIA&quot;</td><td>160</td><td>1089</td><td>5</td><td>40</td><td>&quot;2013-01-01T10:00:00Z&quot;</td></tr><tr><td>2013</td><td>1</td><td>1</td><td>544</td><td>545</td><td>-1</td><td>1004</td><td>1022</td><td>-18</td><td>&quot;B6&quot;</td><td>725</td><td>&quot;N804JB&quot;</td><td>&quot;JFK&quot;</td><td>&quot;BQN&quot;</td><td>183</td><td>1576</td><td>5</td><td>45</td><td>&quot;2013-01-01T10:00:00Z&quot;</td></tr><tr><td>2013</td><td>1</td><td>1</td><td>554</td><td>600</td><td>-6</td><td>812</td><td>837</td><td>-25</td><td>&quot;DL&quot;</td><td>461</td><td>&quot;N668DN&quot;</td><td>&quot;LGA&quot;</td><td>&quot;ATL&quot;</td><td>116</td><td>762</td><td>6</td><td>0</td><td>&quot;2013-01-01T11:00:00Z&quot;</td></tr><tr><td>&hellip;</td><td>&hellip;</td><td>&hellip;</td><td>&hellip;</td><td>&hellip;</td><td>&hellip;</td><td>&hellip;</td><td>&hellip;</td><td>&hellip;</td><td>&hellip;</td><td>&hellip;</td><td>&hellip;</td><td>&hellip;</td><td>&hellip;</td><td>&hellip;</td><td>&hellip;</td><td>&hellip;</td><td>&hellip;</td><td>&hellip;</td></tr><tr><td>2013</td><td>9</td><td>30</td><td>null</td><td>1455</td><td>null</td><td>null</td><td>1634</td><td>null</td><td>&quot;9E&quot;</td><td>3393</td><td>null</td><td>&quot;JFK&quot;</td><td>&quot;DCA&quot;</td><td>null</td><td>213</td><td>14</td><td>55</td><td>&quot;2013-09-30T18:00:00Z&quot;</td></tr><tr><td>2013</td><td>9</td><td>30</td><td>null</td><td>2200</td><td>null</td><td>null</td><td>2312</td><td>null</td><td>&quot;9E&quot;</td><td>3525</td><td>null</td><td>&quot;LGA&quot;</td><td>&quot;SYR&quot;</td><td>null</td><td>198</td><td>22</td><td>0</td><td>&quot;2013-10-01T02:00:00Z&quot;</td></tr><tr><td>2013</td><td>9</td><td>30</td><td>null</td><td>1210</td><td>null</td><td>null</td><td>1330</td><td>null</td><td>&quot;MQ&quot;</td><td>3461</td><td>&quot;N535MQ&quot;</td><td>&quot;LGA&quot;</td><td>&quot;BNA&quot;</td><td>null</td><td>764</td><td>12</td><td>10</td><td>&quot;2013-09-30T16:00:00Z&quot;</td></tr><tr><td>2013</td><td>9</td><td>30</td><td>null</td><td>1159</td><td>null</td><td>null</td><td>1344</td><td>null</td><td>&quot;MQ&quot;</td><td>3572</td><td>&quot;N511MQ&quot;</td><td>&quot;LGA&quot;</td><td>&quot;CLE&quot;</td><td>null</td><td>419</td><td>11</td><td>59</td><td>&quot;2013-09-30T15:00:00Z&quot;</td></tr><tr><td>2013</td><td>9</td><td>30</td><td>null</td><td>840</td><td>null</td><td>null</td><td>1020</td><td>null</td><td>&quot;MQ&quot;</td><td>3531</td><td>&quot;N839MQ&quot;</td><td>&quot;LGA&quot;</td><td>&quot;RDU&quot;</td><td>null</td><td>431</td><td>8</td><td>40</td><td>&quot;2013-09-30T12:00:00Z&quot;</td></tr></tbody></table></div>"
            ]
          },
          "metadata": {},
          "execution_count": 144
        }
      ]
    },
    {
      "cell_type": "code",
      "execution_count": 145,
      "metadata": {
        "id": "nFBz4o2c17_L",
        "colab": {
          "base_uri": "https://localhost:8080/"
        },
        "outputId": "65fdc59d-e0ad-4195-8837-f688e4547c35"
      },
      "outputs": [
        {
          "output_type": "stream",
          "name": "stdout",
          "text": [
            "shape: (10, 2)\n",
            "┌──────┬─────────────┐\n",
            "│ dest ┆ num_flights │\n",
            "│ ---  ┆ ---         │\n",
            "│ str  ┆ u32         │\n",
            "╞══════╪═════════════╡\n",
            "│ ORD  ┆ 17283       │\n",
            "│ ATL  ┆ 17215       │\n",
            "│ LAX  ┆ 16174       │\n",
            "│ BOS  ┆ 15508       │\n",
            "│ MCO  ┆ 14082       │\n",
            "│ CLT  ┆ 14064       │\n",
            "│ SFO  ┆ 13331       │\n",
            "│ FLL  ┆ 12055       │\n",
            "│ MIA  ┆ 11728       │\n",
            "│ DCA  ┆ 9705        │\n",
            "└──────┴─────────────┘\n"
          ]
        }
      ],
      "source": [
        "# Write your SQL query here\n",
        "result = ctx.execute(\"\"\"\n",
        "SELECT dest, COUNT(*) as num_flights\n",
        "FROM flights\n",
        "GROUP BY dest\n",
        "ORDER BY num_flights DESC\n",
        "LIMIT 10\n",
        "\"\"\")\n",
        "\n",
        "print(result)"
      ]
    },
    {
      "cell_type": "markdown",
      "metadata": {
        "id": "-FStYWbH17_L"
      },
      "source": [
        "### 1.3 Find all flights that departed more than 2 hours late (120 minutes)"
      ]
    },
    {
      "cell_type": "code",
      "source": [
        "result = ctx.execute(\"\"\"\n",
        "SELECT*\n",
        "FROM flights\n",
        "\"\"\")\n",
        "result"
      ],
      "metadata": {
        "colab": {
          "base_uri": "https://localhost:8080/",
          "height": 617
        },
        "id": "jpb1xJ9H7PqG",
        "outputId": "de3e7ddb-397c-4574-ca42-325822bc0e2c"
      },
      "execution_count": 146,
      "outputs": [
        {
          "output_type": "execute_result",
          "data": {
            "text/plain": [
              "shape: (336_776, 19)\n",
              "┌──────┬───────┬─────┬──────────┬───┬──────────┬──────┬────────┬──────────────────────┐\n",
              "│ year ┆ month ┆ day ┆ dep_time ┆ … ┆ distance ┆ hour ┆ minute ┆ time_hour            │\n",
              "│ ---  ┆ ---   ┆ --- ┆ ---      ┆   ┆ ---      ┆ ---  ┆ ---    ┆ ---                  │\n",
              "│ i64  ┆ i64   ┆ i64 ┆ i64      ┆   ┆ i64      ┆ i64  ┆ i64    ┆ str                  │\n",
              "╞══════╪═══════╪═════╪══════════╪═══╪══════════╪══════╪════════╪══════════════════════╡\n",
              "│ 2013 ┆ 1     ┆ 1   ┆ 517      ┆ … ┆ 1400     ┆ 5    ┆ 15     ┆ 2013-01-01T10:00:00Z │\n",
              "│ 2013 ┆ 1     ┆ 1   ┆ 533      ┆ … ┆ 1416     ┆ 5    ┆ 29     ┆ 2013-01-01T10:00:00Z │\n",
              "│ 2013 ┆ 1     ┆ 1   ┆ 542      ┆ … ┆ 1089     ┆ 5    ┆ 40     ┆ 2013-01-01T10:00:00Z │\n",
              "│ 2013 ┆ 1     ┆ 1   ┆ 544      ┆ … ┆ 1576     ┆ 5    ┆ 45     ┆ 2013-01-01T10:00:00Z │\n",
              "│ 2013 ┆ 1     ┆ 1   ┆ 554      ┆ … ┆ 762      ┆ 6    ┆ 0      ┆ 2013-01-01T11:00:00Z │\n",
              "│ …    ┆ …     ┆ …   ┆ …        ┆ … ┆ …        ┆ …    ┆ …      ┆ …                    │\n",
              "│ 2013 ┆ 9     ┆ 30  ┆ null     ┆ … ┆ 213      ┆ 14   ┆ 55     ┆ 2013-09-30T18:00:00Z │\n",
              "│ 2013 ┆ 9     ┆ 30  ┆ null     ┆ … ┆ 198      ┆ 22   ┆ 0      ┆ 2013-10-01T02:00:00Z │\n",
              "│ 2013 ┆ 9     ┆ 30  ┆ null     ┆ … ┆ 764      ┆ 12   ┆ 10     ┆ 2013-09-30T16:00:00Z │\n",
              "│ 2013 ┆ 9     ┆ 30  ┆ null     ┆ … ┆ 419      ┆ 11   ┆ 59     ┆ 2013-09-30T15:00:00Z │\n",
              "│ 2013 ┆ 9     ┆ 30  ┆ null     ┆ … ┆ 431      ┆ 8    ┆ 40     ┆ 2013-09-30T12:00:00Z │\n",
              "└──────┴───────┴─────┴──────────┴───┴──────────┴──────┴────────┴──────────────────────┘"
            ],
            "text/html": [
              "<div><style>\n",
              ".dataframe > thead > tr,\n",
              ".dataframe > tbody > tr {\n",
              "  text-align: right;\n",
              "  white-space: pre-wrap;\n",
              "}\n",
              "</style>\n",
              "<small>shape: (336_776, 19)</small><table border=\"1\" class=\"dataframe\"><thead><tr><th>year</th><th>month</th><th>day</th><th>dep_time</th><th>sched_dep_time</th><th>dep_delay</th><th>arr_time</th><th>sched_arr_time</th><th>arr_delay</th><th>carrier</th><th>flight</th><th>tailnum</th><th>origin</th><th>dest</th><th>air_time</th><th>distance</th><th>hour</th><th>minute</th><th>time_hour</th></tr><tr><td>i64</td><td>i64</td><td>i64</td><td>i64</td><td>i64</td><td>i64</td><td>i64</td><td>i64</td><td>i64</td><td>str</td><td>i64</td><td>str</td><td>str</td><td>str</td><td>i64</td><td>i64</td><td>i64</td><td>i64</td><td>str</td></tr></thead><tbody><tr><td>2013</td><td>1</td><td>1</td><td>517</td><td>515</td><td>2</td><td>830</td><td>819</td><td>11</td><td>&quot;UA&quot;</td><td>1545</td><td>&quot;N14228&quot;</td><td>&quot;EWR&quot;</td><td>&quot;IAH&quot;</td><td>227</td><td>1400</td><td>5</td><td>15</td><td>&quot;2013-01-01T10:00:00Z&quot;</td></tr><tr><td>2013</td><td>1</td><td>1</td><td>533</td><td>529</td><td>4</td><td>850</td><td>830</td><td>20</td><td>&quot;UA&quot;</td><td>1714</td><td>&quot;N24211&quot;</td><td>&quot;LGA&quot;</td><td>&quot;IAH&quot;</td><td>227</td><td>1416</td><td>5</td><td>29</td><td>&quot;2013-01-01T10:00:00Z&quot;</td></tr><tr><td>2013</td><td>1</td><td>1</td><td>542</td><td>540</td><td>2</td><td>923</td><td>850</td><td>33</td><td>&quot;AA&quot;</td><td>1141</td><td>&quot;N619AA&quot;</td><td>&quot;JFK&quot;</td><td>&quot;MIA&quot;</td><td>160</td><td>1089</td><td>5</td><td>40</td><td>&quot;2013-01-01T10:00:00Z&quot;</td></tr><tr><td>2013</td><td>1</td><td>1</td><td>544</td><td>545</td><td>-1</td><td>1004</td><td>1022</td><td>-18</td><td>&quot;B6&quot;</td><td>725</td><td>&quot;N804JB&quot;</td><td>&quot;JFK&quot;</td><td>&quot;BQN&quot;</td><td>183</td><td>1576</td><td>5</td><td>45</td><td>&quot;2013-01-01T10:00:00Z&quot;</td></tr><tr><td>2013</td><td>1</td><td>1</td><td>554</td><td>600</td><td>-6</td><td>812</td><td>837</td><td>-25</td><td>&quot;DL&quot;</td><td>461</td><td>&quot;N668DN&quot;</td><td>&quot;LGA&quot;</td><td>&quot;ATL&quot;</td><td>116</td><td>762</td><td>6</td><td>0</td><td>&quot;2013-01-01T11:00:00Z&quot;</td></tr><tr><td>&hellip;</td><td>&hellip;</td><td>&hellip;</td><td>&hellip;</td><td>&hellip;</td><td>&hellip;</td><td>&hellip;</td><td>&hellip;</td><td>&hellip;</td><td>&hellip;</td><td>&hellip;</td><td>&hellip;</td><td>&hellip;</td><td>&hellip;</td><td>&hellip;</td><td>&hellip;</td><td>&hellip;</td><td>&hellip;</td><td>&hellip;</td></tr><tr><td>2013</td><td>9</td><td>30</td><td>null</td><td>1455</td><td>null</td><td>null</td><td>1634</td><td>null</td><td>&quot;9E&quot;</td><td>3393</td><td>null</td><td>&quot;JFK&quot;</td><td>&quot;DCA&quot;</td><td>null</td><td>213</td><td>14</td><td>55</td><td>&quot;2013-09-30T18:00:00Z&quot;</td></tr><tr><td>2013</td><td>9</td><td>30</td><td>null</td><td>2200</td><td>null</td><td>null</td><td>2312</td><td>null</td><td>&quot;9E&quot;</td><td>3525</td><td>null</td><td>&quot;LGA&quot;</td><td>&quot;SYR&quot;</td><td>null</td><td>198</td><td>22</td><td>0</td><td>&quot;2013-10-01T02:00:00Z&quot;</td></tr><tr><td>2013</td><td>9</td><td>30</td><td>null</td><td>1210</td><td>null</td><td>null</td><td>1330</td><td>null</td><td>&quot;MQ&quot;</td><td>3461</td><td>&quot;N535MQ&quot;</td><td>&quot;LGA&quot;</td><td>&quot;BNA&quot;</td><td>null</td><td>764</td><td>12</td><td>10</td><td>&quot;2013-09-30T16:00:00Z&quot;</td></tr><tr><td>2013</td><td>9</td><td>30</td><td>null</td><td>1159</td><td>null</td><td>null</td><td>1344</td><td>null</td><td>&quot;MQ&quot;</td><td>3572</td><td>&quot;N511MQ&quot;</td><td>&quot;LGA&quot;</td><td>&quot;CLE&quot;</td><td>null</td><td>419</td><td>11</td><td>59</td><td>&quot;2013-09-30T15:00:00Z&quot;</td></tr><tr><td>2013</td><td>9</td><td>30</td><td>null</td><td>840</td><td>null</td><td>null</td><td>1020</td><td>null</td><td>&quot;MQ&quot;</td><td>3531</td><td>&quot;N839MQ&quot;</td><td>&quot;LGA&quot;</td><td>&quot;RDU&quot;</td><td>null</td><td>431</td><td>8</td><td>40</td><td>&quot;2013-09-30T12:00:00Z&quot;</td></tr></tbody></table></div>"
            ]
          },
          "metadata": {},
          "execution_count": 146
        }
      ]
    },
    {
      "cell_type": "code",
      "execution_count": 147,
      "metadata": {
        "id": "uLFwsMA717_L",
        "colab": {
          "base_uri": "https://localhost:8080/"
        },
        "outputId": "2da8f871-1499-4054-ca7d-9832ebe941b7"
      },
      "outputs": [
        {
          "output_type": "stream",
          "name": "stdout",
          "text": [
            "shape: (9_723, 19)\n",
            "┌──────┬───────┬─────┬──────────┬───┬──────────┬──────┬────────┬──────────────────────┐\n",
            "│ year ┆ month ┆ day ┆ dep_time ┆ … ┆ distance ┆ hour ┆ minute ┆ time_hour            │\n",
            "│ ---  ┆ ---   ┆ --- ┆ ---      ┆   ┆ ---      ┆ ---  ┆ ---    ┆ ---                  │\n",
            "│ i64  ┆ i64   ┆ i64 ┆ i64      ┆   ┆ i64      ┆ i64  ┆ i64    ┆ str                  │\n",
            "╞══════╪═══════╪═════╪══════════╪═══╪══════════╪══════╪════════╪══════════════════════╡\n",
            "│ 2013 ┆ 1     ┆ 1   ┆ 848      ┆ … ┆ 184      ┆ 18   ┆ 35     ┆ 2013-01-01T23:00:00Z │\n",
            "│ 2013 ┆ 1     ┆ 1   ┆ 957      ┆ … ┆ 200      ┆ 7    ┆ 33     ┆ 2013-01-01T12:00:00Z │\n",
            "│ 2013 ┆ 1     ┆ 1   ┆ 1114     ┆ … ┆ 1416     ┆ 9    ┆ 0      ┆ 2013-01-01T14:00:00Z │\n",
            "│ 2013 ┆ 1     ┆ 1   ┆ 1540     ┆ … ┆ 1598     ┆ 13   ┆ 38     ┆ 2013-01-01T18:00:00Z │\n",
            "│ 2013 ┆ 1     ┆ 1   ┆ 1815     ┆ … ┆ 1134     ┆ 13   ┆ 25     ┆ 2013-01-01T18:00:00Z │\n",
            "│ …    ┆ …     ┆ …   ┆ …        ┆ … ┆ …        ┆ …    ┆ …      ┆ …                    │\n",
            "│ 2013 ┆ 9     ┆ 30  ┆ 1823     ┆ … ┆ 765      ┆ 15   ┆ 45     ┆ 2013-09-30T19:00:00Z │\n",
            "│ 2013 ┆ 9     ┆ 30  ┆ 1951     ┆ … ┆ 708      ┆ 16   ┆ 49     ┆ 2013-09-30T20:00:00Z │\n",
            "│ 2013 ┆ 9     ┆ 30  ┆ 2053     ┆ … ┆ 746      ┆ 18   ┆ 15     ┆ 2013-09-30T22:00:00Z │\n",
            "│ 2013 ┆ 9     ┆ 30  ┆ 2159     ┆ … ┆ 301      ┆ 18   ┆ 45     ┆ 2013-09-30T22:00:00Z │\n",
            "│ 2013 ┆ 9     ┆ 30  ┆ 2235     ┆ … ┆ 944      ┆ 20   ┆ 1      ┆ 2013-10-01T00:00:00Z │\n",
            "└──────┴───────┴─────┴──────────┴───┴──────────┴──────┴────────┴──────────────────────┘\n"
          ]
        }
      ],
      "source": [
        "# Write your SQL query here\n",
        "result = ctx.execute(\"\"\"\n",
        "SELECT *\n",
        "FROM flights\n",
        "WHERE dep_delay > 120\n",
        "\"\"\")\n",
        "\n",
        "print(result)"
      ]
    },
    {
      "cell_type": "markdown",
      "metadata": {
        "id": "_rJPlyHj17_M"
      },
      "source": [
        "## Exercise 2: Aggregation\n",
        "\n",
        "### 2.1 Calculate the average departure delay for each origin airport"
      ]
    },
    {
      "cell_type": "code",
      "execution_count": 148,
      "metadata": {
        "id": "NaQBbusU17_M",
        "colab": {
          "base_uri": "https://localhost:8080/"
        },
        "outputId": "7a6c5df4-5011-411e-904e-46ff022f3c40"
      },
      "outputs": [
        {
          "output_type": "stream",
          "name": "stdout",
          "text": [
            "shape: (3, 2)\n",
            "┌────────┬───────────┐\n",
            "│ origin ┆ avg_delay │\n",
            "│ ---    ┆ ---       │\n",
            "│ str    ┆ f64       │\n",
            "╞════════╪═══════════╡\n",
            "│ EWR    ┆ 15.107954 │\n",
            "│ JFK    ┆ 12.112159 │\n",
            "│ LGA    ┆ 10.346876 │\n",
            "└────────┴───────────┘\n"
          ]
        }
      ],
      "source": [
        "# Write your SQL query here\n",
        "result = ctx.execute(\"\"\"\n",
        "SELECT origin, AVG(dep_delay) as avg_delay\n",
        "FROM flights\n",
        "WHERE dep_delay IS NOT NULL\n",
        "GROUP BY origin\n",
        "ORDER BY avg_delay DESC\n",
        "\"\"\")\n",
        "\n",
        "print(result)"
      ]
    },
    {
      "cell_type": "markdown",
      "metadata": {
        "id": "F5NbIEdf17_M"
      },
      "source": [
        "### 2.2 Find the busiest month of the year\n",
        "\n",
        "Count the number of flights per month and find which month has the most flights."
      ]
    },
    {
      "cell_type": "code",
      "execution_count": 149,
      "metadata": {
        "id": "joZUhF4p17_M",
        "colab": {
          "base_uri": "https://localhost:8080/",
          "height": 342
        },
        "outputId": "c0628bad-b35d-42da-8b05-ca19f848cf15"
      },
      "outputs": [
        {
          "output_type": "execute_result",
          "data": {
            "text/plain": [
              "shape: (5, 19)\n",
              "┌──────┬───────┬─────┬──────────┬───┬──────────┬──────┬────────┬──────────────────────┐\n",
              "│ year ┆ month ┆ day ┆ dep_time ┆ … ┆ distance ┆ hour ┆ minute ┆ time_hour            │\n",
              "│ ---  ┆ ---   ┆ --- ┆ ---      ┆   ┆ ---      ┆ ---  ┆ ---    ┆ ---                  │\n",
              "│ i64  ┆ i64   ┆ i64 ┆ i64      ┆   ┆ i64      ┆ i64  ┆ i64    ┆ str                  │\n",
              "╞══════╪═══════╪═════╪══════════╪═══╪══════════╪══════╪════════╪══════════════════════╡\n",
              "│ 2013 ┆ 1     ┆ 1   ┆ 517      ┆ … ┆ 1400     ┆ 5    ┆ 15     ┆ 2013-01-01T10:00:00Z │\n",
              "│ 2013 ┆ 1     ┆ 1   ┆ 533      ┆ … ┆ 1416     ┆ 5    ┆ 29     ┆ 2013-01-01T10:00:00Z │\n",
              "│ 2013 ┆ 1     ┆ 1   ┆ 542      ┆ … ┆ 1089     ┆ 5    ┆ 40     ┆ 2013-01-01T10:00:00Z │\n",
              "│ 2013 ┆ 1     ┆ 1   ┆ 544      ┆ … ┆ 1576     ┆ 5    ┆ 45     ┆ 2013-01-01T10:00:00Z │\n",
              "│ 2013 ┆ 1     ┆ 1   ┆ 554      ┆ … ┆ 762      ┆ 6    ┆ 0      ┆ 2013-01-01T11:00:00Z │\n",
              "└──────┴───────┴─────┴──────────┴───┴──────────┴──────┴────────┴──────────────────────┘"
            ],
            "text/html": [
              "<div><style>\n",
              ".dataframe > thead > tr,\n",
              ".dataframe > tbody > tr {\n",
              "  text-align: right;\n",
              "  white-space: pre-wrap;\n",
              "}\n",
              "</style>\n",
              "<small>shape: (5, 19)</small><table border=\"1\" class=\"dataframe\"><thead><tr><th>year</th><th>month</th><th>day</th><th>dep_time</th><th>sched_dep_time</th><th>dep_delay</th><th>arr_time</th><th>sched_arr_time</th><th>arr_delay</th><th>carrier</th><th>flight</th><th>tailnum</th><th>origin</th><th>dest</th><th>air_time</th><th>distance</th><th>hour</th><th>minute</th><th>time_hour</th></tr><tr><td>i64</td><td>i64</td><td>i64</td><td>i64</td><td>i64</td><td>i64</td><td>i64</td><td>i64</td><td>i64</td><td>str</td><td>i64</td><td>str</td><td>str</td><td>str</td><td>i64</td><td>i64</td><td>i64</td><td>i64</td><td>str</td></tr></thead><tbody><tr><td>2013</td><td>1</td><td>1</td><td>517</td><td>515</td><td>2</td><td>830</td><td>819</td><td>11</td><td>&quot;UA&quot;</td><td>1545</td><td>&quot;N14228&quot;</td><td>&quot;EWR&quot;</td><td>&quot;IAH&quot;</td><td>227</td><td>1400</td><td>5</td><td>15</td><td>&quot;2013-01-01T10:00:00Z&quot;</td></tr><tr><td>2013</td><td>1</td><td>1</td><td>533</td><td>529</td><td>4</td><td>850</td><td>830</td><td>20</td><td>&quot;UA&quot;</td><td>1714</td><td>&quot;N24211&quot;</td><td>&quot;LGA&quot;</td><td>&quot;IAH&quot;</td><td>227</td><td>1416</td><td>5</td><td>29</td><td>&quot;2013-01-01T10:00:00Z&quot;</td></tr><tr><td>2013</td><td>1</td><td>1</td><td>542</td><td>540</td><td>2</td><td>923</td><td>850</td><td>33</td><td>&quot;AA&quot;</td><td>1141</td><td>&quot;N619AA&quot;</td><td>&quot;JFK&quot;</td><td>&quot;MIA&quot;</td><td>160</td><td>1089</td><td>5</td><td>40</td><td>&quot;2013-01-01T10:00:00Z&quot;</td></tr><tr><td>2013</td><td>1</td><td>1</td><td>544</td><td>545</td><td>-1</td><td>1004</td><td>1022</td><td>-18</td><td>&quot;B6&quot;</td><td>725</td><td>&quot;N804JB&quot;</td><td>&quot;JFK&quot;</td><td>&quot;BQN&quot;</td><td>183</td><td>1576</td><td>5</td><td>45</td><td>&quot;2013-01-01T10:00:00Z&quot;</td></tr><tr><td>2013</td><td>1</td><td>1</td><td>554</td><td>600</td><td>-6</td><td>812</td><td>837</td><td>-25</td><td>&quot;DL&quot;</td><td>461</td><td>&quot;N668DN&quot;</td><td>&quot;LGA&quot;</td><td>&quot;ATL&quot;</td><td>116</td><td>762</td><td>6</td><td>0</td><td>&quot;2013-01-01T11:00:00Z&quot;</td></tr></tbody></table></div>"
            ]
          },
          "metadata": {},
          "execution_count": 149
        }
      ],
      "source": [
        "# First, let's check what columns are available\n",
        "result = ctx.execute(\"\"\"\n",
        "    SELECT *\n",
        "    FROM flights\n",
        "    LIMIT 5\n",
        "\"\"\")\n",
        "result"
      ]
    },
    {
      "cell_type": "code",
      "source": [
        "# Now write your query to find busiest month\n",
        "result = ctx.execute(\"\"\"\n",
        "SELECT month, COUNT(*) as num_flights\n",
        "FROM flights\n",
        "GROUP BY month\n",
        "ORDER BY num_flights DESC\n",
        "LIMIT 1\n",
        "\"\"\")\n",
        "\n",
        "print(result)"
      ],
      "metadata": {
        "colab": {
          "base_uri": "https://localhost:8080/"
        },
        "id": "w4OFH1aj8Z3U",
        "outputId": "cfa4be4e-fab6-413d-bb2d-173ec1eb0c39"
      },
      "execution_count": 150,
      "outputs": [
        {
          "output_type": "stream",
          "name": "stdout",
          "text": [
            "shape: (1, 2)\n",
            "┌───────┬─────────────┐\n",
            "│ month ┆ num_flights │\n",
            "│ ---   ┆ ---         │\n",
            "│ i64   ┆ u32         │\n",
            "╞═══════╪═════════════╡\n",
            "│ 7     ┆ 29425       │\n",
            "└───────┴─────────────┘\n"
          ]
        }
      ]
    },
    {
      "cell_type": "markdown",
      "metadata": {
        "id": "uJRX7eRQ17_M"
      },
      "source": [
        "### 2.3 Calculate the on-time performance rate for each carrier\n",
        "\n",
        "Consider a flight on-time if the departure delay is <= 15 minutes."
      ]
    },
    {
      "cell_type": "code",
      "execution_count": 151,
      "metadata": {
        "id": "gT9g4i7T17_M",
        "colab": {
          "base_uri": "https://localhost:8080/"
        },
        "outputId": "36b21cbd-86fd-46ae-ff65-25beded5731d"
      },
      "outputs": [
        {
          "output_type": "stream",
          "name": "stdout",
          "text": [
            "shape: (16, 2)\n",
            "┌─────────┬─────────────┐\n",
            "│ carrier ┆ ontime_rate │\n",
            "│ ---     ┆ ---         │\n",
            "│ str     ┆ f64         │\n",
            "╞═════════╪═════════════╡\n",
            "│ HA      ┆ 0.929825    │\n",
            "│ US      ┆ 0.878227    │\n",
            "│ AS      ┆ 0.867978    │\n",
            "│ AA      ┆ 0.840713    │\n",
            "│ DL      ┆ 0.836812    │\n",
            "│ …       ┆ …           │\n",
            "│ FL      ┆ 0.733291    │\n",
            "│ WN      ┆ 0.731027    │\n",
            "│ F9      ┆ 0.718475    │\n",
            "│ YV      ┆ 0.713761    │\n",
            "│ EV      ┆ 0.695381    │\n",
            "└─────────┴─────────────┘\n"
          ]
        }
      ],
      "source": [
        "# Write your SQL query here\n",
        "result = ctx.execute(\"\"\"\n",
        "SELECT carrier, AVG(CASE WHEN dep_delay <= 15 THEN 1.0 ELSE 0.0 END) AS ontime_rate\n",
        "FROM flights\n",
        "WHERE dep_delay IS NOT NULL\n",
        "GROUP BY carrier\n",
        "ORDER BY ontime_rate DESC\n",
        "\"\"\")\n",
        "\n",
        "print(result)"
      ]
    },
    {
      "cell_type": "markdown",
      "metadata": {
        "id": "cWLsVUv617_M"
      },
      "source": [
        "## Exercise 3: Joins\n",
        "\n",
        "### 3.1 List all flights with their airline names (not just carrier codes)\n",
        "\n",
        "Show the first 20 flights with carrier code, airline name, flight number, origin, and destination."
      ]
    },
    {
      "cell_type": "code",
      "execution_count": 152,
      "metadata": {
        "id": "DRY1X3S_17_M",
        "colab": {
          "base_uri": "https://localhost:8080/"
        },
        "outputId": "9146fac4-9390-4776-a8bb-66eaf7bc11ab"
      },
      "outputs": [
        {
          "output_type": "stream",
          "name": "stdout",
          "text": [
            "shape: (20, 5)\n",
            "┌─────────┬────────────────────────┬────────┬────────┬──────┐\n",
            "│ carrier ┆ name                   ┆ flight ┆ origin ┆ dest │\n",
            "│ ---     ┆ ---                    ┆ ---    ┆ ---    ┆ ---  │\n",
            "│ str     ┆ str                    ┆ i64    ┆ str    ┆ str  │\n",
            "╞═════════╪════════════════════════╪════════╪════════╪══════╡\n",
            "│ UA      ┆ United Air Lines Inc.  ┆ 1545   ┆ EWR    ┆ IAH  │\n",
            "│ UA      ┆ United Air Lines Inc.  ┆ 1714   ┆ LGA    ┆ IAH  │\n",
            "│ AA      ┆ American Airlines Inc. ┆ 1141   ┆ JFK    ┆ MIA  │\n",
            "│ B6      ┆ JetBlue Airways        ┆ 725    ┆ JFK    ┆ BQN  │\n",
            "│ DL      ┆ Delta Air Lines Inc.   ┆ 461    ┆ LGA    ┆ ATL  │\n",
            "│ …       ┆ …                      ┆ …      ┆ …      ┆ …    │\n",
            "│ B6      ┆ JetBlue Airways        ┆ 1806   ┆ JFK    ┆ BOS  │\n",
            "│ UA      ┆ United Air Lines Inc.  ┆ 1187   ┆ EWR    ┆ LAS  │\n",
            "│ B6      ┆ JetBlue Airways        ┆ 371    ┆ LGA    ┆ FLL  │\n",
            "│ MQ      ┆ Envoy Air              ┆ 4650   ┆ LGA    ┆ ATL  │\n",
            "│ B6      ┆ JetBlue Airways        ┆ 343    ┆ EWR    ┆ PBI  │\n",
            "└─────────┴────────────────────────┴────────┴────────┴──────┘\n"
          ]
        }
      ],
      "source": [
        "# Write your SQL query here\n",
        "result = ctx.execute(\"\"\"\n",
        "    SELECT\n",
        "        f.carrier,\n",
        "        a.name,\n",
        "        f.flight,\n",
        "        f.origin,\n",
        "        f.dest\n",
        "    FROM flights f\n",
        "    LEFT JOIN airlines a ON f.carrier = a.carrier\n",
        "    LIMIT 20\n",
        "\"\"\")\n",
        "\n",
        "print(result)"
      ]
    },
    {
      "cell_type": "markdown",
      "metadata": {
        "id": "SOZpXm0u17_M"
      },
      "source": [
        "### 3.2 Find the average age of planes for each carrier\n",
        "\n",
        "Hint: The planes table has a `year` column for manufacture year. Calculate age based on 2013."
      ]
    },
    {
      "cell_type": "code",
      "execution_count": 153,
      "metadata": {
        "id": "bxU-ALQW17_M",
        "colab": {
          "base_uri": "https://localhost:8080/"
        },
        "outputId": "833b1193-a8b6-4460-920f-33b0f7b6fe03"
      },
      "outputs": [
        {
          "output_type": "stream",
          "name": "stdout",
          "text": [
            "shape: (16, 2)\n",
            "┌─────────┬───────────┐\n",
            "│ carrier ┆ avg_age   │\n",
            "│ ---     ┆ ---       │\n",
            "│ str     ┆ f64       │\n",
            "╞═════════╪═══════════╡\n",
            "│ 9E      ┆ 7.101053  │\n",
            "│ AS      ┆ 3.33662   │\n",
            "│ UA      ┆ 13.207691 │\n",
            "│ FL      ┆ 11.385829 │\n",
            "│ DL      ┆ 16.372169 │\n",
            "│ …       ┆ …         │\n",
            "│ VX      ┆ 4.473643  │\n",
            "│ EV      ┆ 11.308998 │\n",
            "│ US      ┆ 9.103663  │\n",
            "│ WN      ┆ 9.146052  │\n",
            "│ B6      ┆ 6.686702  │\n",
            "└─────────┴───────────┘\n"
          ]
        }
      ],
      "source": [
        "# Write your SQL query here\n",
        "result = ctx.execute(\"\"\"\n",
        "SELECT f.carrier, AVG(2013 - p.year) as avg_age\n",
        "FROM flights f\n",
        "LEFT JOIN planes p ON f.tailnum = p.tailnum\n",
        "GROUP BY f.carrier\n",
        "\"\"\")\n",
        "\n",
        "print(result)"
      ]
    },
    {
      "cell_type": "markdown",
      "metadata": {
        "id": "UfZfVycN17_M"
      },
      "source": [
        "### 3.3 Find flights that experienced both departure delays and bad weather\n",
        "\n",
        "Join flights with weather data and find flights where departure delay > 30 minutes and either wind_speed > 20 or precip > 0.1"
      ]
    },
    {
      "cell_type": "code",
      "execution_count": 154,
      "metadata": {
        "id": "_U-ZQzsi17_M",
        "colab": {
          "base_uri": "https://localhost:8080/",
          "height": 255
        },
        "outputId": "fe5ec089-d386-44e3-e2bd-5d700c9e42b8"
      },
      "outputs": [
        {
          "output_type": "execute_result",
          "data": {
            "text/plain": [
              "shape: (5, 15)\n",
              "┌────────┬──────┬───────┬─────┬───┬────────┬──────────┬───────┬──────────────────────┐\n",
              "│ origin ┆ year ┆ month ┆ day ┆ … ┆ precip ┆ pressure ┆ visib ┆ time_hour            │\n",
              "│ ---    ┆ ---  ┆ ---   ┆ --- ┆   ┆ ---    ┆ ---      ┆ ---   ┆ ---                  │\n",
              "│ str    ┆ i64  ┆ i64   ┆ i64 ┆   ┆ f64    ┆ f64      ┆ f64   ┆ str                  │\n",
              "╞════════╪══════╪═══════╪═════╪═══╪════════╪══════════╪═══════╪══════════════════════╡\n",
              "│ EWR    ┆ 2013 ┆ 1     ┆ 1   ┆ … ┆ 0.0    ┆ 1012.0   ┆ 10.0  ┆ 2013-01-01T06:00:00Z │\n",
              "│ EWR    ┆ 2013 ┆ 1     ┆ 1   ┆ … ┆ 0.0    ┆ 1012.3   ┆ 10.0  ┆ 2013-01-01T07:00:00Z │\n",
              "│ EWR    ┆ 2013 ┆ 1     ┆ 1   ┆ … ┆ 0.0    ┆ 1012.5   ┆ 10.0  ┆ 2013-01-01T08:00:00Z │\n",
              "│ EWR    ┆ 2013 ┆ 1     ┆ 1   ┆ … ┆ 0.0    ┆ 1012.2   ┆ 10.0  ┆ 2013-01-01T09:00:00Z │\n",
              "│ EWR    ┆ 2013 ┆ 1     ┆ 1   ┆ … ┆ 0.0    ┆ 1011.9   ┆ 10.0  ┆ 2013-01-01T10:00:00Z │\n",
              "└────────┴──────┴───────┴─────┴───┴────────┴──────────┴───────┴──────────────────────┘"
            ],
            "text/html": [
              "<div><style>\n",
              ".dataframe > thead > tr,\n",
              ".dataframe > tbody > tr {\n",
              "  text-align: right;\n",
              "  white-space: pre-wrap;\n",
              "}\n",
              "</style>\n",
              "<small>shape: (5, 15)</small><table border=\"1\" class=\"dataframe\"><thead><tr><th>origin</th><th>year</th><th>month</th><th>day</th><th>hour</th><th>temp</th><th>dewp</th><th>humid</th><th>wind_dir</th><th>wind_speed</th><th>wind_gust</th><th>precip</th><th>pressure</th><th>visib</th><th>time_hour</th></tr><tr><td>str</td><td>i64</td><td>i64</td><td>i64</td><td>i64</td><td>f64</td><td>f64</td><td>f64</td><td>i64</td><td>f64</td><td>f64</td><td>f64</td><td>f64</td><td>f64</td><td>str</td></tr></thead><tbody><tr><td>&quot;EWR&quot;</td><td>2013</td><td>1</td><td>1</td><td>1</td><td>39.02</td><td>26.06</td><td>59.37</td><td>270</td><td>10.35702</td><td>null</td><td>0.0</td><td>1012.0</td><td>10.0</td><td>&quot;2013-01-01T06:00:00Z&quot;</td></tr><tr><td>&quot;EWR&quot;</td><td>2013</td><td>1</td><td>1</td><td>2</td><td>39.02</td><td>26.96</td><td>61.63</td><td>250</td><td>8.05546</td><td>null</td><td>0.0</td><td>1012.3</td><td>10.0</td><td>&quot;2013-01-01T07:00:00Z&quot;</td></tr><tr><td>&quot;EWR&quot;</td><td>2013</td><td>1</td><td>1</td><td>3</td><td>39.02</td><td>28.04</td><td>64.43</td><td>240</td><td>11.5078</td><td>null</td><td>0.0</td><td>1012.5</td><td>10.0</td><td>&quot;2013-01-01T08:00:00Z&quot;</td></tr><tr><td>&quot;EWR&quot;</td><td>2013</td><td>1</td><td>1</td><td>4</td><td>39.92</td><td>28.04</td><td>62.21</td><td>250</td><td>12.65858</td><td>null</td><td>0.0</td><td>1012.2</td><td>10.0</td><td>&quot;2013-01-01T09:00:00Z&quot;</td></tr><tr><td>&quot;EWR&quot;</td><td>2013</td><td>1</td><td>1</td><td>5</td><td>39.02</td><td>28.04</td><td>64.43</td><td>260</td><td>12.65858</td><td>null</td><td>0.0</td><td>1011.9</td><td>10.0</td><td>&quot;2013-01-01T10:00:00Z&quot;</td></tr></tbody></table></div>"
            ]
          },
          "metadata": {},
          "execution_count": 154
        }
      ],
      "source": [
        "# First, explore the weather table structure\n",
        "result = ctx.execute(\"\"\"\n",
        "    SELECT *\n",
        "    FROM weather\n",
        "    LIMIT 5\n",
        "\"\"\")\n",
        "result"
      ]
    },
    {
      "cell_type": "code",
      "source": [
        "# Now write your join query\n",
        "result = ctx.execute(\"\"\"\n",
        "SELECT f.*, w.temp, w.dewp, w.humid, w.wind_dir, w.wind_speed, w.wind_gust, w.precip, w.pressure, w.visib\n",
        "FROM flights f\n",
        "LEFT JOIN weather w ON f.time_hour = w.time_hour AND f.origin = w.origin\n",
        "WHERE f.dep_delay > 30\n",
        "\"\"\")\n",
        "\n",
        "result"
      ],
      "metadata": {
        "colab": {
          "base_uri": "https://localhost:8080/",
          "height": 637
        },
        "id": "_FlvWCKRCTG9",
        "outputId": "133d7af0-408c-448b-ae98-943abb2cae69"
      },
      "execution_count": 155,
      "outputs": [
        {
          "output_type": "execute_result",
          "data": {
            "text/plain": [
              "shape: (48_291, 28)\n",
              "┌──────┬───────┬─────┬──────────┬───┬───────────┬────────┬──────────┬───────┐\n",
              "│ year ┆ month ┆ day ┆ dep_time ┆ … ┆ wind_gust ┆ precip ┆ pressure ┆ visib │\n",
              "│ ---  ┆ ---   ┆ --- ┆ ---      ┆   ┆ ---       ┆ ---    ┆ ---      ┆ ---   │\n",
              "│ i64  ┆ i64   ┆ i64 ┆ i64      ┆   ┆ f64       ┆ f64    ┆ f64      ┆ f64   │\n",
              "╞══════╪═══════╪═════╪══════════╪═══╪═══════════╪════════╪══════════╪═══════╡\n",
              "│ 2013 ┆ 1     ┆ 1   ┆ 732      ┆ … ┆ null      ┆ 0.0    ┆ 1012.4   ┆ 10.0  │\n",
              "│ 2013 ┆ 1     ┆ 1   ┆ 749      ┆ … ┆ null      ┆ 0.0    ┆ 1012.2   ┆ 10.0  │\n",
              "│ 2013 ┆ 1     ┆ 1   ┆ 811      ┆ … ┆ 23.0156   ┆ 0.0    ┆ 1011.7   ┆ 10.0  │\n",
              "│ 2013 ┆ 1     ┆ 1   ┆ 826      ┆ … ┆ null      ┆ 0.0    ┆ 1012.5   ┆ 10.0  │\n",
              "│ 2013 ┆ 1     ┆ 1   ┆ 848      ┆ … ┆ null      ┆ 0.0    ┆ 1014.2   ┆ 10.0  │\n",
              "│ …    ┆ …     ┆ …   ┆ …        ┆ … ┆ …         ┆ …      ┆ …        ┆ …     │\n",
              "│ 2013 ┆ 9     ┆ 30  ┆ 2119     ┆ … ┆ null      ┆ 0.0    ┆ 1016.0   ┆ 10.0  │\n",
              "│ 2013 ┆ 9     ┆ 30  ┆ 2159     ┆ … ┆ null      ┆ 0.0    ┆ 1016.0   ┆ 10.0  │\n",
              "│ 2013 ┆ 9     ┆ 30  ┆ 2211     ┆ … ┆ null      ┆ 0.0    ┆ 1016.0   ┆ 10.0  │\n",
              "│ 2013 ┆ 9     ┆ 30  ┆ 2233     ┆ … ┆ null      ┆ 0.0    ┆ 1016.1   ┆ 10.0  │\n",
              "│ 2013 ┆ 9     ┆ 30  ┆ 2235     ┆ … ┆ null      ┆ 0.0    ┆ 1016.4   ┆ 10.0  │\n",
              "└──────┴───────┴─────┴──────────┴───┴───────────┴────────┴──────────┴───────┘"
            ],
            "text/html": [
              "<div><style>\n",
              ".dataframe > thead > tr,\n",
              ".dataframe > tbody > tr {\n",
              "  text-align: right;\n",
              "  white-space: pre-wrap;\n",
              "}\n",
              "</style>\n",
              "<small>shape: (48_291, 28)</small><table border=\"1\" class=\"dataframe\"><thead><tr><th>year</th><th>month</th><th>day</th><th>dep_time</th><th>sched_dep_time</th><th>dep_delay</th><th>arr_time</th><th>sched_arr_time</th><th>arr_delay</th><th>carrier</th><th>flight</th><th>tailnum</th><th>origin</th><th>dest</th><th>air_time</th><th>distance</th><th>hour</th><th>minute</th><th>time_hour</th><th>temp</th><th>dewp</th><th>humid</th><th>wind_dir</th><th>wind_speed</th><th>wind_gust</th><th>precip</th><th>pressure</th><th>visib</th></tr><tr><td>i64</td><td>i64</td><td>i64</td><td>i64</td><td>i64</td><td>i64</td><td>i64</td><td>i64</td><td>i64</td><td>str</td><td>i64</td><td>str</td><td>str</td><td>str</td><td>i64</td><td>i64</td><td>i64</td><td>i64</td><td>str</td><td>f64</td><td>f64</td><td>f64</td><td>i64</td><td>f64</td><td>f64</td><td>f64</td><td>f64</td><td>f64</td></tr></thead><tbody><tr><td>2013</td><td>1</td><td>1</td><td>732</td><td>645</td><td>47</td><td>1011</td><td>941</td><td>30</td><td>&quot;UA&quot;</td><td>1111</td><td>&quot;N37456&quot;</td><td>&quot;EWR&quot;</td><td>&quot;MCO&quot;</td><td>145</td><td>937</td><td>6</td><td>45</td><td>&quot;2013-01-01T11:00:00Z&quot;</td><td>37.94</td><td>28.04</td><td>67.21</td><td>240</td><td>11.5078</td><td>null</td><td>0.0</td><td>1012.4</td><td>10.0</td></tr><tr><td>2013</td><td>1</td><td>1</td><td>749</td><td>710</td><td>39</td><td>939</td><td>850</td><td>49</td><td>&quot;MQ&quot;</td><td>3737</td><td>&quot;N508MQ&quot;</td><td>&quot;EWR&quot;</td><td>&quot;ORD&quot;</td><td>148</td><td>719</td><td>7</td><td>10</td><td>&quot;2013-01-01T12:00:00Z&quot;</td><td>39.02</td><td>28.04</td><td>64.43</td><td>240</td><td>14.96014</td><td>null</td><td>0.0</td><td>1012.2</td><td>10.0</td></tr><tr><td>2013</td><td>1</td><td>1</td><td>811</td><td>630</td><td>101</td><td>1047</td><td>830</td><td>137</td><td>&quot;MQ&quot;</td><td>4576</td><td>&quot;N531MQ&quot;</td><td>&quot;LGA&quot;</td><td>&quot;CLT&quot;</td><td>118</td><td>544</td><td>6</td><td>30</td><td>&quot;2013-01-01T11:00:00Z&quot;</td><td>39.92</td><td>24.98</td><td>54.81</td><td>260</td><td>16.11092</td><td>23.0156</td><td>0.0</td><td>1011.7</td><td>10.0</td></tr><tr><td>2013</td><td>1</td><td>1</td><td>826</td><td>715</td><td>71</td><td>1136</td><td>1045</td><td>51</td><td>&quot;AA&quot;</td><td>443</td><td>&quot;N3GVAA&quot;</td><td>&quot;JFK&quot;</td><td>&quot;MIA&quot;</td><td>160</td><td>1089</td><td>7</td><td>15</td><td>&quot;2013-01-01T12:00:00Z&quot;</td><td>39.02</td><td>28.04</td><td>64.43</td><td>260</td><td>13.80936</td><td>null</td><td>0.0</td><td>1012.5</td><td>10.0</td></tr><tr><td>2013</td><td>1</td><td>1</td><td>848</td><td>1835</td><td>853</td><td>1001</td><td>1950</td><td>851</td><td>&quot;MQ&quot;</td><td>3944</td><td>&quot;N942MQ&quot;</td><td>&quot;JFK&quot;</td><td>&quot;BWI&quot;</td><td>41</td><td>184</td><td>18</td><td>35</td><td>&quot;2013-01-01T23:00:00Z&quot;</td><td>35.06</td><td>14.0</td><td>41.51</td><td>310</td><td>14.96014</td><td>null</td><td>0.0</td><td>1014.2</td><td>10.0</td></tr><tr><td>&hellip;</td><td>&hellip;</td><td>&hellip;</td><td>&hellip;</td><td>&hellip;</td><td>&hellip;</td><td>&hellip;</td><td>&hellip;</td><td>&hellip;</td><td>&hellip;</td><td>&hellip;</td><td>&hellip;</td><td>&hellip;</td><td>&hellip;</td><td>&hellip;</td><td>&hellip;</td><td>&hellip;</td><td>&hellip;</td><td>&hellip;</td><td>&hellip;</td><td>&hellip;</td><td>&hellip;</td><td>&hellip;</td><td>&hellip;</td><td>&hellip;</td><td>&hellip;</td><td>&hellip;</td><td>&hellip;</td></tr><tr><td>2013</td><td>9</td><td>30</td><td>2119</td><td>2005</td><td>74</td><td>2310</td><td>2212</td><td>58</td><td>&quot;EV&quot;</td><td>4321</td><td>&quot;N17984&quot;</td><td>&quot;EWR&quot;</td><td>&quot;MCI&quot;</td><td>147</td><td>1092</td><td>20</td><td>5</td><td>&quot;2013-10-01T00:00:00Z&quot;</td><td>64.94</td><td>55.04</td><td>70.28</td><td>170</td><td>3.45234</td><td>null</td><td>0.0</td><td>1016.0</td><td>10.0</td></tr><tr><td>2013</td><td>9</td><td>30</td><td>2159</td><td>1845</td><td>194</td><td>2344</td><td>2030</td><td>194</td><td>&quot;9E&quot;</td><td>3320</td><td>&quot;N906XJ&quot;</td><td>&quot;JFK&quot;</td><td>&quot;BUF&quot;</td><td>50</td><td>301</td><td>18</td><td>45</td><td>&quot;2013-09-30T22:00:00Z&quot;</td><td>64.04</td><td>55.94</td><td>74.94</td><td>180</td><td>6.90468</td><td>null</td><td>0.0</td><td>1016.0</td><td>10.0</td></tr><tr><td>2013</td><td>9</td><td>30</td><td>2211</td><td>2059</td><td>72</td><td>2339</td><td>2242</td><td>57</td><td>&quot;EV&quot;</td><td>4672</td><td>&quot;N12145&quot;</td><td>&quot;EWR&quot;</td><td>&quot;STL&quot;</td><td>120</td><td>872</td><td>20</td><td>59</td><td>&quot;2013-10-01T00:00:00Z&quot;</td><td>64.94</td><td>55.04</td><td>70.28</td><td>170</td><td>3.45234</td><td>null</td><td>0.0</td><td>1016.0</td><td>10.0</td></tr><tr><td>2013</td><td>9</td><td>30</td><td>2233</td><td>2113</td><td>80</td><td>112</td><td>30</td><td>42</td><td>&quot;UA&quot;</td><td>471</td><td>&quot;N578UA&quot;</td><td>&quot;EWR&quot;</td><td>&quot;SFO&quot;</td><td>318</td><td>2565</td><td>21</td><td>13</td><td>&quot;2013-10-01T01:00:00Z&quot;</td><td>62.96</td><td>55.04</td><td>75.33</td><td>190</td><td>3.45234</td><td>null</td><td>0.0</td><td>1016.1</td><td>10.0</td></tr><tr><td>2013</td><td>9</td><td>30</td><td>2235</td><td>2001</td><td>154</td><td>59</td><td>2249</td><td>130</td><td>&quot;B6&quot;</td><td>1083</td><td>&quot;N804JB&quot;</td><td>&quot;JFK&quot;</td><td>&quot;MCO&quot;</td><td>123</td><td>944</td><td>20</td><td>1</td><td>&quot;2013-10-01T00:00:00Z&quot;</td><td>62.06</td><td>57.02</td><td>83.54</td><td>210</td><td>8.05546</td><td>null</td><td>0.0</td><td>1016.4</td><td>10.0</td></tr></tbody></table></div>"
            ]
          },
          "metadata": {},
          "execution_count": 155
        }
      ]
    },
    {
      "cell_type": "markdown",
      "metadata": {
        "id": "UYv1P3cT17_M"
      },
      "source": [
        "## Exercise 4: Advanced Queries\n",
        "\n",
        "### 4.1 Find the most popular aircraft types (by number of flights)\n",
        "\n",
        "Join flights with planes to get manufacturer and model information. Show top 10."
      ]
    },
    {
      "cell_type": "code",
      "execution_count": 156,
      "metadata": {
        "id": "78THTJSe17_M",
        "colab": {
          "base_uri": "https://localhost:8080/"
        },
        "outputId": "d83c9c3e-a5ca-4c3e-f31a-48aa03397ba4"
      },
      "outputs": [
        {
          "output_type": "stream",
          "name": "stdout",
          "text": [
            "shape: (10, 3)\n",
            "┌──────────────────┬─────────────────┬─────────────┐\n",
            "│ manufacturer     ┆ model           ┆ num_flights │\n",
            "│ ---              ┆ ---             ┆ ---         │\n",
            "│ str              ┆ str             ┆ u32         │\n",
            "╞══════════════════╪═════════════════╪═════════════╡\n",
            "│ null             ┆ null            ┆ 52606       │\n",
            "│ AIRBUS           ┆ A320-232        ┆ 31278       │\n",
            "│ EMBRAER          ┆ EMB-145LR       ┆ 28027       │\n",
            "│ EMBRAER          ┆ ERJ 190-100 IGW ┆ 23716       │\n",
            "│ AIRBUS INDUSTRIE ┆ A320-232        ┆ 14553       │\n",
            "│ EMBRAER          ┆ EMB-145XR       ┆ 14051       │\n",
            "│ BOEING           ┆ 737-824         ┆ 13809       │\n",
            "│ BOMBARDIER INC   ┆ CL-600-2D24     ┆ 11807       │\n",
            "│ BOEING           ┆ 737-7H4         ┆ 10389       │\n",
            "│ BOEING           ┆ 757-222         ┆ 9150        │\n",
            "└──────────────────┴─────────────────┴─────────────┘\n"
          ]
        }
      ],
      "source": [
        "# Write your SQL query here\n",
        "result = ctx.execute(\"\"\"\n",
        "SELECT p.manufacturer, p.model, COUNT(*) as num_flights\n",
        "FROM flights f\n",
        "LEFT JOIN planes p ON f.tailnum = p.tailnum\n",
        "GROUP BY p.manufacturer, p.model\n",
        "ORDER BY num_flights DESC\n",
        "LIMIT 10\n",
        "\"\"\")\n",
        "\n",
        "print(result)"
      ]
    },
    {
      "cell_type": "markdown",
      "metadata": {
        "id": "SIhKz55R17_M"
      },
      "source": [
        "### 4.2 Analyze route performance\n",
        "\n",
        "Find the top 10 routes (origin-destination pairs) with:\n",
        "- Total number of flights\n",
        "- Average departure delay\n",
        "- Percentage of flights delayed more than 30 minutes\n",
        "\n",
        "Include airport names, not just codes."
      ]
    },
    {
      "cell_type": "code",
      "execution_count": 157,
      "metadata": {
        "id": "L3q35viJ17_M",
        "colab": {
          "base_uri": "https://localhost:8080/"
        },
        "outputId": "5cd76cb1-e489-422d-a537-6d55e81a990a"
      },
      "outputs": [
        {
          "output_type": "stream",
          "name": "stdout",
          "text": [
            "shape: (10, 5)\n",
            "┌────────┬──────┬─────────────┬───────────┬─────────────────────┐\n",
            "│ origin ┆ dest ┆ num_flights ┆ avg_delay ┆ pct_delayed_over_30 │\n",
            "│ ---    ┆ ---  ┆ ---         ┆ ---       ┆ ---                 │\n",
            "│ str    ┆ str  ┆ u32         ┆ f64       ┆ f64                 │\n",
            "╞════════╪══════╪═════════════╪═══════════╪═════════════════════╡\n",
            "│ JFK    ┆ LAX  ┆ 11262       ┆ 8.522508  ┆ 0.098295            │\n",
            "│ LGA    ┆ ATL  ┆ 10263       ┆ 11.448621 ┆ 0.122479            │\n",
            "│ LGA    ┆ ORD  ┆ 8857        ┆ 10.740758 ┆ 0.133454            │\n",
            "│ JFK    ┆ SFO  ┆ 8204        ┆ 11.952691 ┆ 0.12116             │\n",
            "│ LGA    ┆ CLT  ┆ 6168        ┆ 8.965321  ┆ 0.119488            │\n",
            "│ EWR    ┆ ORD  ┆ 6100        ┆ 14.644163 ┆ 0.16                │\n",
            "│ JFK    ┆ BOS  ┆ 5898        ┆ 11.694953 ┆ 0.137674            │\n",
            "│ LGA    ┆ MIA  ┆ 5781        ┆ 7.361747  ┆ 0.09462             │\n",
            "│ JFK    ┆ MCO  ┆ 5464        ┆ 10.601583 ┆ 0.127196            │\n",
            "│ EWR    ┆ BOS  ┆ 5327        ┆ 12.54561  ┆ 0.149052            │\n",
            "└────────┴──────┴─────────────┴───────────┴─────────────────────┘\n"
          ]
        }
      ],
      "source": [
        "# Write your SQL query here\n",
        "result = ctx.execute(\"\"\"\n",
        "SELECT origin, dest, COUNT(*) as num_flights, AVG(dep_delay) as avg_delay, AVG(CASE WHEN dep_delay > 30 THEN 1.0 ELSE 0.0 END) AS pct_delayed_over_30\n",
        "FROM flights\n",
        "GROUP BY origin, dest\n",
        "ORDER BY num_flights DESC\n",
        "LIMIT 10\n",
        "\"\"\")\n",
        "\n",
        "print(result)"
      ]
    },
    {
      "cell_type": "markdown",
      "metadata": {
        "id": "Q7lLpCfL17_M"
      },
      "source": [
        "### 4.3 Time-based analysis\n",
        "\n",
        "Create a query that shows:\n",
        "- Average delays by time of day (morning: 5-12, afternoon: 12-17, evening: 17-22, night: 22-5)\n",
        "- Number of flights in each period\n",
        "\n",
        "Hint: Use CASE WHEN statements to categorize times. The `hour` column contains the scheduled departure hour."
      ]
    },
    {
      "cell_type": "code",
      "execution_count": 158,
      "metadata": {
        "id": "VVAI67tC17_M",
        "colab": {
          "base_uri": "https://localhost:8080/"
        },
        "outputId": "9d2278ef-504d-427d-9c10-982a6a8439ad"
      },
      "outputs": [
        {
          "output_type": "stream",
          "name": "stdout",
          "text": [
            "shape: (4, 3)\n",
            "┌─────────────┬─────────────┬───────────┐\n",
            "│ time_of_day ┆ num_flights ┆ avg_delay │\n",
            "│ ---         ┆ ---         ┆ ---       │\n",
            "│ str         ┆ u32         ┆ f64       │\n",
            "╞═════════════╪═════════════╪═══════════╡\n",
            "│ morning     ┆ 129539      ┆ 1.791329  │\n",
            "│ afternoon   ┆ 98617       ┆ 10.084671 │\n",
            "│ evening     ┆ 90753       ┆ 23.357178 │\n",
            "│ night       ┆ 9612        ┆ 83.843009 │\n",
            "└─────────────┴─────────────┴───────────┘\n"
          ]
        }
      ],
      "source": [
        "# Write your SQL query here\n",
        "result = ctx.execute(\"\"\"\n",
        "WITH base AS (\n",
        "  SELECT\n",
        "    CAST(dep_time AS DOUBLE) / 100.0 AS dep_hour,\n",
        "    dep_delay\n",
        "  FROM flights\n",
        "  WHERE dep_time IS NOT NULL\n",
        "),\n",
        "tagged AS (\n",
        "  SELECT\n",
        "    CASE\n",
        "      WHEN dep_hour >= 5  AND dep_hour < 12 THEN 'morning'\n",
        "      WHEN dep_hour >= 12 AND dep_hour < 17 THEN 'afternoon'\n",
        "      WHEN dep_hour >= 17 AND dep_hour < 22 THEN 'evening'\n",
        "      ELSE 'night'\n",
        "    END AS time_of_day,\n",
        "    dep_delay\n",
        "  FROM base\n",
        ")\n",
        "SELECT\n",
        "  time_of_day,\n",
        "  COUNT(*)            AS num_flights,\n",
        "  AVG(dep_delay)      AS avg_delay\n",
        "FROM tagged\n",
        "GROUP BY time_of_day\n",
        "ORDER BY num_flights DESC\n",
        "\"\"\")\n",
        "\n",
        "print(result)"
      ]
    },
    {
      "cell_type": "markdown",
      "metadata": {
        "id": "2x2DnO6K17_M"
      },
      "source": [
        "## Exercise 5: Challenge Query\n",
        "\n",
        "### 5.1 Comprehensive Airline Performance Report\n",
        "\n",
        "Create a query that produces a comprehensive performance report for each airline including:\n",
        "- Airline name\n",
        "- Total flights\n",
        "- Average departure delay\n",
        "- On-time percentage (delay <= 15 min)\n",
        "- Number of unique aircraft used\n",
        "- Average age of fleet\n",
        "\n",
        "This will require multiple joins and subqueries!"
      ]
    },
    {
      "cell_type": "code",
      "execution_count": 159,
      "metadata": {
        "id": "TUfxrp3R17_M",
        "colab": {
          "base_uri": "https://localhost:8080/"
        },
        "outputId": "2e02778f-04c2-4c33-e385-be9fa181b647"
      },
      "outputs": [
        {
          "output_type": "stream",
          "name": "stdout",
          "text": [
            "shape: (16, 6)\n",
            "┌──────────────────────┬───────────────┬───────────┬─────────────┬─────────────────────┬───────────┐\n",
            "│ name                 ┆ total_flights ┆ avg_delay ┆ ontime_rate ┆ num_unique_aircraft ┆ avg_age   │\n",
            "│ ---                  ┆ ---           ┆ ---       ┆ ---         ┆ ---                 ┆ ---       │\n",
            "│ str                  ┆ u32           ┆ f64       ┆ f64         ┆ u32                 ┆ f64       │\n",
            "╞══════════════════════╪═══════════════╪═══════════╪═════════════╪═════════════════════╪═══════════╡\n",
            "│ United Air Lines     ┆ 58665         ┆ 12.106073 ┆ 0.780431    ┆ 598                 ┆ 13.207691 │\n",
            "│ Inc.                 ┆               ┆           ┆             ┆                     ┆           │\n",
            "│ JetBlue Airways      ┆ 54635         ┆ 13.022522 ┆ 0.76537     ┆ 190                 ┆ 6.686702  │\n",
            "│ ExpressJet Airlines  ┆ 54173         ┆ 19.95539  ┆ 0.659221    ┆ 316                 ┆ 11.308998 │\n",
            "│ Inc.                 ┆               ┆           ┆             ┆                     ┆           │\n",
            "│ Delta Air Lines Inc. ┆ 48110         ┆ 9.264505  ┆ 0.830742    ┆ 619                 ┆ 16.372169 │\n",
            "│ American Airlines    ┆ 32729         ┆ 8.586016  ┆ 0.824376    ┆ 171                 ┆ 25.869426 │\n",
            "│ Inc.                 ┆               ┆           ┆             ┆                     ┆           │\n",
            "│ …                    ┆ …             ┆ …         ┆ …           ┆ …                   ┆ …         │\n",
            "│ Alaska Airlines Inc. ┆ 714           ┆ 5.804775  ┆ 0.865546    ┆ 84                  ┆ 3.33662   │\n",
            "│ Frontier Airlines    ┆ 685           ┆ 20.215543 ┆ 0.715328    ┆ 23                  ┆ 4.87874   │\n",
            "│ Inc.                 ┆               ┆           ┆             ┆                     ┆           │\n",
            "│ Mesa Airlines Inc.   ┆ 601           ┆ 18.99633  ┆ 0.647255    ┆ 58                  ┆ 9.313758  │\n",
            "│ Hawaiian Airlines    ┆ 342           ┆ 4.900585  ┆ 0.929825    ┆ 14                  ┆ 1.548387  │\n",
            "│ Inc.                 ┆               ┆           ┆             ┆                     ┆           │\n",
            "│ SkyWest Airlines     ┆ 32            ┆ 12.586207 ┆ 0.71875     ┆ 28                  ┆ 6.84375   │\n",
            "│ Inc.                 ┆               ┆           ┆             ┆                     ┆           │\n",
            "└──────────────────────┴───────────────┴───────────┴─────────────┴─────────────────────┴───────────┘\n"
          ]
        }
      ],
      "source": [
        "# Write your SQL query here\n",
        "result = ctx.execute(\"\"\"\n",
        "    SELECT\n",
        "        a.name,\n",
        "        COUNT(*) AS total_flights,\n",
        "        AVG(f.dep_delay) AS avg_delay,\n",
        "        AVG(CASE WHEN f.dep_delay <= 15 THEN 1.0 ELSE 0.0 END) AS ontime_rate,\n",
        "        COUNT(DISTINCT p.tailnum) AS num_unique_aircraft,\n",
        "        AVG(2013 - p.year) AS avg_age\n",
        "    FROM flights f\n",
        "    LEFT JOIN airlines a ON f.carrier = a.carrier\n",
        "    LEFT JOIN planes p ON f.tailnum = p.tailnum\n",
        "    GROUP BY a.name\n",
        "    ORDER BY total_flights DESC\n",
        "\"\"\")\n",
        "\n",
        "print(result)"
      ]
    },
    {
      "cell_type": "markdown",
      "metadata": {
        "id": "LFgdj5lK17_M"
      },
      "source": [
        "## Bonus: Compare with Polars\n",
        "\n",
        "### Choose one of the queries above and implement it using Polars\n",
        "\n",
        "This will help you understand the relationship between SQL and Polars operations."
      ]
    },
    {
      "cell_type": "code",
      "execution_count": 160,
      "metadata": {
        "id": "omwS62jv17_M",
        "colab": {
          "base_uri": "https://localhost:8080/"
        },
        "outputId": "cc674277-6f74-40a3-9dda-5bc6d6442010"
      },
      "outputs": [
        {
          "output_type": "stream",
          "name": "stdout",
          "text": [
            "SQL Result:\n",
            "shape: (3, 2)\n",
            "┌────────┬───────────┐\n",
            "│ origin ┆ avg_delay │\n",
            "│ ---    ┆ ---       │\n",
            "│ str    ┆ f64       │\n",
            "╞════════╪═══════════╡\n",
            "│ EWR    ┆ 15.107954 │\n",
            "│ JFK    ┆ 12.112159 │\n",
            "│ LGA    ┆ 10.346876 │\n",
            "└────────┴───────────┘\n",
            "\n",
            "Polars Result:\n",
            "shape: (3, 2)\n",
            "┌────────┬───────────┐\n",
            "│ origin ┆ avg_delay │\n",
            "│ ---    ┆ ---       │\n",
            "│ str    ┆ f64       │\n",
            "╞════════╪═══════════╡\n",
            "│ EWR    ┆ 15.107954 │\n",
            "│ JFK    ┆ 12.112159 │\n",
            "│ LGA    ┆ 10.346876 │\n",
            "└────────┴───────────┘\n",
            "MD POLARS Result:\n",
            "shape: (16, 2)\n",
            "┌─────────┬───────────┐\n",
            "│ carrier ┆ avg_age   │\n",
            "│ ---     ┆ ---       │\n",
            "│ str     ┆ f64       │\n",
            "╞═════════╪═══════════╡\n",
            "│ MQ      ┆ 35.319    │\n",
            "│ AA      ┆ 25.869426 │\n",
            "│ DL      ┆ 16.372169 │\n",
            "│ UA      ┆ 13.207691 │\n",
            "│ FL      ┆ 11.385829 │\n",
            "│ …       ┆ …         │\n",
            "│ B6      ┆ 6.686702  │\n",
            "│ F9      ┆ 4.87874   │\n",
            "│ VX      ┆ 4.473643  │\n",
            "│ AS      ┆ 3.33662   │\n",
            "│ HA      ┆ 1.548387  │\n",
            "└─────────┴───────────┘\n",
            "MD SQL Result:\n",
            "shape: (16, 2)\n",
            "┌─────────┬───────────┐\n",
            "│ carrier ┆ avg_age   │\n",
            "│ ---     ┆ ---       │\n",
            "│ str     ┆ f64       │\n",
            "╞═════════╪═══════════╡\n",
            "│ MQ      ┆ 35.319    │\n",
            "│ AA      ┆ 25.869426 │\n",
            "│ DL      ┆ 16.372169 │\n",
            "│ UA      ┆ 13.207691 │\n",
            "│ FL      ┆ 11.385829 │\n",
            "│ …       ┆ …         │\n",
            "│ B6      ┆ 6.686702  │\n",
            "│ F9      ┆ 4.87874   │\n",
            "│ VX      ┆ 4.473643  │\n",
            "│ AS      ┆ 3.33662   │\n",
            "│ HA      ┆ 1.548387  │\n",
            "└─────────┴───────────┘\n"
          ]
        }
      ],
      "source": [
        "# Example: Let's implement Exercise 2.1 (average delay by origin) in Polars\n",
        "\n",
        "# SQL version (for reference)\n",
        "sql_result = ctx.execute(\"\"\"\n",
        "    SELECT\n",
        "        origin,\n",
        "        AVG(dep_delay) as avg_delay\n",
        "    FROM flights\n",
        "    WHERE dep_delay IS NOT NULL\n",
        "    GROUP BY origin\n",
        "    ORDER BY avg_delay DESC\n",
        "\"\"\")\n",
        "\n",
        "# Polars version\n",
        "polars_result = (\n",
        "    flights\n",
        "    .filter(pl.col('dep_delay').is_not_null())\n",
        "    .group_by('origin')\n",
        "    .agg(pl.col('dep_delay').mean().alias('avg_delay'))\n",
        "    .sort('avg_delay', descending=True)\n",
        ")\n",
        "\n",
        "print(\"SQL Result:\")\n",
        "print(sql_result)\n",
        "print(\"\\nPolars Result:\")\n",
        "print(polars_result)\n",
        "\n",
        "# Now implement one of your own queries in Polars below:\n",
        "# Your Polars code here\n",
        "MD_POLARS_result = (flights.join(planes, on=\"tailnum\", how=\"left\", suffix=\"_planes\")\n",
        "    .with_columns((pl.lit(2013) - pl.col(\"year_planes\").cast(pl.Float64)).alias(\"age\"))\n",
        "    .group_by(\"carrier\")\n",
        "    .agg(pl.col(\"age\").mean().alias(\"avg_age\"))\n",
        "    .sort(\"avg_age\", descending=True)\n",
        ")\n",
        "print(\"MD POLARS Result:\")\n",
        "print(MD_POLARS_result)\n",
        "\n",
        "MD_SQL_result = ctx.execute(\"\"\"\n",
        "SELECT f.carrier, AVG(2013 - p.year) as avg_age\n",
        "FROM flights f\n",
        "LEFT JOIN planes p ON f.tailnum = p.tailnum\n",
        "GROUP BY f.carrier\n",
        "ORDER BY avg_age DESC\n",
        "\"\"\")\n",
        "print(\"MD SQL Result:\")\n",
        "print(MD_SQL_result)"
      ]
    },
    {
      "cell_type": "markdown",
      "metadata": {
        "id": "rbibWIxF17_M"
      },
      "source": [
        "## Bonus 2: Create Your Own Analysis\n",
        "\n",
        "Using what you've learned, create your own interesting analysis of the flight data. Try to:\n",
        "1. Ask an interesting business question\n",
        "2. Write a SQL query to answer it\n",
        "3. Visualize or interpret the results"
      ]
    },
    {
      "cell_type": "code",
      "execution_count": 162,
      "metadata": {
        "id": "Wq9bxHPa17_M",
        "colab": {
          "base_uri": "https://localhost:8080/"
        },
        "outputId": "f81d5f74-29ec-414b-d06d-5997c16e1120"
      },
      "outputs": [
        {
          "output_type": "stream",
          "name": "stdout",
          "text": [
            "It is best to avoid New York on Christmas Eve or New Year's Eve. Several airlines have sgnificant delay issues on those dates in New York airports.\n",
            "shape: (10, 3)\n",
            "┌──────────────────────────┬────────┬───────────┐\n",
            "│ name                     ┆ origin ┆ avg_delay │\n",
            "│ ---                      ┆ ---    ┆ ---       │\n",
            "│ str                      ┆ str    ┆ f64       │\n",
            "╞══════════════════════════╪════════╪═══════════╡\n",
            "│ Envoy Air                ┆ EWR    ┆ 33.75     │\n",
            "│ Southwest Airlines Co.   ┆ EWR    ┆ 16.2      │\n",
            "│ ExpressJet Airlines Inc. ┆ EWR    ┆ 15.108333 │\n",
            "│ ExpressJet Airlines Inc. ┆ JFK    ┆ 14.5      │\n",
            "│ United Air Lines Inc.    ┆ EWR    ┆ 11.074561 │\n",
            "│ JetBlue Airways          ┆ JFK    ┆ 10.491736 │\n",
            "│ Endeavor Air Inc.        ┆ EWR    ┆ 9.6       │\n",
            "│ Southwest Airlines Co.   ┆ LGA    ┆ 8.545455  │\n",
            "│ American Airlines Inc.   ┆ JFK    ┆ 7.955882  │\n",
            "│ Endeavor Air Inc.        ┆ LGA    ┆ 6.769231  │\n",
            "└──────────────────────────┴────────┴───────────┘\n"
          ]
        }
      ],
      "source": [
        "# Your custom analysis here\n",
        "\n",
        "# Which airline and origin have the worst delays on New Year's Eve and Christmas Eve combined?\n",
        "\n",
        "# Your SQL query here\n",
        "result = ctx.execute(\"\"\"\n",
        "SELECT a.name, f.origin, AVG(f.dep_delay) as avg_delay\n",
        "FROM flights f\n",
        "JOIN airlines a ON f.carrier = a.carrier\n",
        "WHERE (f.day = 31 AND f.month = 12) OR (f.day = 24 AND f.month = 12)\n",
        "GROUP BY a.name, f.origin\n",
        "ORDER BY avg_delay DESC\n",
        "LIMIT 10\n",
        "\"\"\")\n",
        "print(\"It is best to avoid New York on Christmas Eve or New Year's Eve. Several airlines have sgnificant delay issues on those dates in New York airports.\")\n",
        "print(result)"
      ]
    },
    {
      "cell_type": "markdown",
      "metadata": {
        "id": "JMcHzWQe17_M"
      },
      "source": [
        "## Reflection Questions\n",
        "\n",
        "After completing these exercises, consider:\n",
        "\n",
        "1. Which operations felt more natural in SQL vs Polars?\n",
        "2. When would you choose SQL over Polars (or vice versa)?\n",
        "3. What are the advantages of using Polars' SQL integration?\n",
        "4. How does writing SQL queries help you understand your data better?\n",
        "\n",
        "Write your thoughts here:"
      ]
    },
    {
      "cell_type": "markdown",
      "metadata": {
        "id": "CTpDfpqS17_M"
      },
      "source": [
        "1. Joins, filtering and creating calculated fields are much simpler in SQL than in Polars\n",
        "\n",
        "2. I will always choose SQL over Polars, unless it is for running totals or ranking.\n",
        "\n",
        "3. It helps to understand how coding logic works.\n",
        "\n",
        "4. SQL queries allow for easier and immediate manipulation of data. It is much more efficient than Polars."
      ]
    },
    {
      "cell_type": "markdown",
      "metadata": {
        "id": "w3Hzp1fG17_M"
      },
      "source": [
        "## Solutions Hints\n",
        "\n",
        "If you get stuck, here are some hints:\n",
        "\n",
        "1. **Exercise 1.1**: Use `SELECT DISTINCT` or just `SELECT carrier, name`\n",
        "2. **Exercise 1.2**: Use `GROUP BY dest` with `COUNT(*)`\n",
        "3. **Exercise 2.3**: Use `CASE WHEN` to create an on-time indicator, then average it\n",
        "4. **Exercise 3.2**: Remember to handle NULL values in plane year\n",
        "5. **Exercise 4.2**: Use CTEs to break down the complex calculation\n",
        "6. **Exercise 5.1**: Consider using multiple CTEs or subqueries for different metrics\n",
        "\n",
        "Remember: SQL queries in Polars support most standard SQL features including:\n",
        "- CTEs (WITH clauses)\n",
        "- Window functions\n",
        "- CASE WHEN statements\n",
        "- All standard joins\n",
        "- Aggregate functions"
      ]
    }
  ],
  "metadata": {
    "kernelspec": {
      "display_name": "Python 3",
      "language": "python",
      "name": "python3"
    },
    "language_info": {
      "codemirror_mode": {
        "name": "ipython",
        "version": 3
      },
      "file_extension": ".py",
      "mimetype": "text/x-python",
      "name": "python",
      "nbconvert_exporter": "python",
      "pygments_lexer": "ipython3",
      "version": "3.8.0"
    },
    "colab": {
      "provenance": []
    }
  },
  "nbformat": 4,
  "nbformat_minor": 0
}